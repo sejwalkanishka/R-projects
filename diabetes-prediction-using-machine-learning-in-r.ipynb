{
 "cells": [
  {
   "cell_type": "markdown",
   "id": "ede222f0",
   "metadata": {
    "_execution_state": "idle",
    "_uuid": "051d70d956493feee0c6d64651c6a088724dca2a",
    "papermill": {
     "duration": 0.003814,
     "end_time": "2025-08-27T14:11:12.846197",
     "exception": false,
     "start_time": "2025-08-27T14:11:12.842383",
     "status": "completed"
    },
    "tags": []
   },
   "source": [
    "1.** Introduction**\n",
    "\n",
    "Diabetes is a chronic medical condition affecting millions worldwide. Early diagnosis and prediction are crucial for managing this disease. In this project, we will use patient data including demographics and lab results to build a machine learning model that predicts the likelihood of diabetes.\n",
    "\n",
    "We'll go through the full machine learning pipeline:\n",
    "\n",
    "1. Data loading and exploration\n",
    "2.  Data cleaning and preprocessing\n",
    "3.  Model building and evaluation\n",
    "4.  Feature importance analysis"
   ]
  },
  {
   "cell_type": "markdown",
   "id": "b01e5a16",
   "metadata": {
    "papermill": {
     "duration": 0.00295,
     "end_time": "2025-08-27T14:11:12.852439",
     "exception": false,
     "start_time": "2025-08-27T14:11:12.849489",
     "status": "completed"
    },
    "tags": []
   },
   "source": [
    "2. Importing Libraries"
   ]
  },
  {
   "cell_type": "code",
   "execution_count": 1,
   "id": "c0d84e24",
   "metadata": {
    "execution": {
     "iopub.execute_input": "2025-08-27T14:11:12.863424Z",
     "iopub.status.busy": "2025-08-27T14:11:12.861076Z",
     "iopub.status.idle": "2025-08-27T14:11:16.703790Z",
     "shell.execute_reply": "2025-08-27T14:11:16.701655Z"
    },
    "papermill": {
     "duration": 3.851432,
     "end_time": "2025-08-27T14:11:16.706820",
     "exception": false,
     "start_time": "2025-08-27T14:11:12.855388",
     "status": "completed"
    },
    "tags": []
   },
   "outputs": [
    {
     "name": "stderr",
     "output_type": "stream",
     "text": [
      "\n",
      "Attaching package: ‘dplyr’\n",
      "\n",
      "\n"
     ]
    },
    {
     "name": "stderr",
     "output_type": "stream",
     "text": [
      "The following objects are masked from ‘package:stats’:\n",
      "\n",
      "    filter, lag\n",
      "\n",
      "\n"
     ]
    },
    {
     "name": "stderr",
     "output_type": "stream",
     "text": [
      "The following objects are masked from ‘package:base’:\n",
      "\n",
      "    intersect, setdiff, setequal, union\n",
      "\n",
      "\n"
     ]
    },
    {
     "name": "stderr",
     "output_type": "stream",
     "text": [
      "Registered S3 method overwritten by 'GGally':\n",
      "  method from   \n",
      "  +.gg   ggplot2\n",
      "\n"
     ]
    },
    {
     "name": "stderr",
     "output_type": "stream",
     "text": [
      "corrplot 0.92 loaded\n",
      "\n"
     ]
    },
    {
     "name": "stderr",
     "output_type": "stream",
     "text": [
      "Loading required package: lattice\n",
      "\n"
     ]
    },
    {
     "name": "stderr",
     "output_type": "stream",
     "text": [
      "\n",
      "Attaching package: ‘caret’\n",
      "\n",
      "\n"
     ]
    },
    {
     "name": "stderr",
     "output_type": "stream",
     "text": [
      "The following object is masked from ‘package:httr’:\n",
      "\n",
      "    progress\n",
      "\n",
      "\n"
     ]
    },
    {
     "name": "stderr",
     "output_type": "stream",
     "text": [
      "randomForest 4.7-1.1\n",
      "\n"
     ]
    },
    {
     "name": "stderr",
     "output_type": "stream",
     "text": [
      "Type rfNews() to see new features/changes/bug fixes.\n",
      "\n"
     ]
    },
    {
     "name": "stderr",
     "output_type": "stream",
     "text": [
      "\n",
      "Attaching package: ‘randomForest’\n",
      "\n",
      "\n"
     ]
    },
    {
     "name": "stderr",
     "output_type": "stream",
     "text": [
      "The following object is masked from ‘package:ggplot2’:\n",
      "\n",
      "    margin\n",
      "\n",
      "\n"
     ]
    },
    {
     "name": "stderr",
     "output_type": "stream",
     "text": [
      "The following object is masked from ‘package:dplyr’:\n",
      "\n",
      "    combine\n",
      "\n",
      "\n"
     ]
    },
    {
     "name": "stderr",
     "output_type": "stream",
     "text": [
      "\n",
      "Attaching package: ‘xgboost’\n",
      "\n",
      "\n"
     ]
    },
    {
     "name": "stderr",
     "output_type": "stream",
     "text": [
      "The following object is masked from ‘package:dplyr’:\n",
      "\n",
      "    slice\n",
      "\n",
      "\n"
     ]
    }
   ],
   "source": [
    "# Data manipulation\n",
    "library(dplyr)\n",
    "library(tidyr)\n",
    "\n",
    "# Data handling\n",
    "library(readr)\n",
    "\n",
    "# Visualization\n",
    "library(ggplot2)\n",
    "library(GGally)\n",
    "library(corrplot)\n",
    "\n",
    "# Train/test split and model tuning\n",
    "library(caret)\n",
    "\n",
    "# Random Forest\n",
    "library(randomForest)\n",
    "\n",
    "# Evaluation metrics\n",
    "library(caret)   # also covers confusionMatrix, accuracy, classification report-like output\n",
    "\n",
    "# Preprocessing (Label Encoding, Scaling)\n",
    "  # dummyVars (label encoding), preProcess (scaling)\n",
    "library(xgboost)\n",
    "\n",
    "library(e1071)"
   ]
  },
  {
   "cell_type": "markdown",
   "id": "7c199fa2",
   "metadata": {
    "papermill": {
     "duration": 0.004043,
     "end_time": "2025-08-27T14:11:16.715181",
     "exception": false,
     "start_time": "2025-08-27T14:11:16.711138",
     "status": "completed"
    },
    "tags": []
   },
   "source": [
    "**3. Importing dataset**"
   ]
  },
  {
   "cell_type": "code",
   "execution_count": 2,
   "id": "a4c7a43a",
   "metadata": {
    "execution": {
     "iopub.execute_input": "2025-08-27T14:11:16.756942Z",
     "iopub.status.busy": "2025-08-27T14:11:16.725796Z",
     "iopub.status.idle": "2025-08-27T14:11:19.269325Z",
     "shell.execute_reply": "2025-08-27T14:11:19.267484Z"
    },
    "papermill": {
     "duration": 2.552422,
     "end_time": "2025-08-27T14:11:19.271601",
     "exception": false,
     "start_time": "2025-08-27T14:11:16.719179",
     "status": "completed"
    },
    "tags": []
   },
   "outputs": [
    {
     "data": {
      "text/html": [
       "<table class=\"dataframe\">\n",
       "<caption>A data.frame: 6 × 50</caption>\n",
       "<thead>\n",
       "\t<tr><th></th><th scope=col>encounter_id</th><th scope=col>patient_nbr</th><th scope=col>race</th><th scope=col>gender</th><th scope=col>age</th><th scope=col>weight</th><th scope=col>admission_type_id</th><th scope=col>discharge_disposition_id</th><th scope=col>admission_source_id</th><th scope=col>time_in_hospital</th><th scope=col>⋯</th><th scope=col>citoglipton</th><th scope=col>insulin</th><th scope=col>glyburide.metformin</th><th scope=col>glipizide.metformin</th><th scope=col>glimepiride.pioglitazone</th><th scope=col>metformin.rosiglitazone</th><th scope=col>metformin.pioglitazone</th><th scope=col>change</th><th scope=col>diabetesMed</th><th scope=col>readmitted</th></tr>\n",
       "\t<tr><th></th><th scope=col>&lt;int&gt;</th><th scope=col>&lt;int&gt;</th><th scope=col>&lt;chr&gt;</th><th scope=col>&lt;chr&gt;</th><th scope=col>&lt;chr&gt;</th><th scope=col>&lt;chr&gt;</th><th scope=col>&lt;int&gt;</th><th scope=col>&lt;int&gt;</th><th scope=col>&lt;int&gt;</th><th scope=col>&lt;int&gt;</th><th scope=col>⋯</th><th scope=col>&lt;chr&gt;</th><th scope=col>&lt;chr&gt;</th><th scope=col>&lt;chr&gt;</th><th scope=col>&lt;chr&gt;</th><th scope=col>&lt;chr&gt;</th><th scope=col>&lt;chr&gt;</th><th scope=col>&lt;chr&gt;</th><th scope=col>&lt;chr&gt;</th><th scope=col>&lt;chr&gt;</th><th scope=col>&lt;chr&gt;</th></tr>\n",
       "</thead>\n",
       "<tbody>\n",
       "\t<tr><th scope=row>1</th><td>2278392</td><td> 8222157</td><td>Caucasian      </td><td>Female</td><td>[0-10) </td><td>?</td><td>6</td><td>25</td><td>1</td><td>1</td><td>⋯</td><td>No</td><td>No    </td><td>No</td><td>No</td><td>No</td><td>No</td><td>No</td><td>No</td><td>No </td><td>NO </td></tr>\n",
       "\t<tr><th scope=row>2</th><td> 149190</td><td>55629189</td><td><span style=white-space:pre-wrap>Caucasian      </span></td><td>Female</td><td>[10-20)</td><td>?</td><td>1</td><td> 1</td><td>7</td><td>3</td><td>⋯</td><td>No</td><td><span style=white-space:pre-wrap>Up    </span></td><td>No</td><td>No</td><td>No</td><td>No</td><td>No</td><td>Ch</td><td>Yes</td><td>&gt;30</td></tr>\n",
       "\t<tr><th scope=row>3</th><td>  64410</td><td>86047875</td><td>AfricanAmerican</td><td>Female</td><td>[20-30)</td><td>?</td><td>1</td><td> 1</td><td>7</td><td>2</td><td>⋯</td><td>No</td><td>No    </td><td>No</td><td>No</td><td>No</td><td>No</td><td>No</td><td>No</td><td>Yes</td><td>NO </td></tr>\n",
       "\t<tr><th scope=row>4</th><td> 500364</td><td>82442376</td><td>Caucasian      </td><td>Male  </td><td>[30-40)</td><td>?</td><td>1</td><td> 1</td><td>7</td><td>2</td><td>⋯</td><td>No</td><td>Up    </td><td>No</td><td>No</td><td>No</td><td>No</td><td>No</td><td>Ch</td><td>Yes</td><td>NO </td></tr>\n",
       "\t<tr><th scope=row>5</th><td>  16680</td><td>42519267</td><td>Caucasian      </td><td>Male  </td><td>[40-50)</td><td>?</td><td>1</td><td> 1</td><td>7</td><td>1</td><td>⋯</td><td>No</td><td>Steady</td><td>No</td><td>No</td><td>No</td><td>No</td><td>No</td><td>Ch</td><td>Yes</td><td>NO </td></tr>\n",
       "\t<tr><th scope=row>6</th><td><span style=white-space:pre-wrap>  35754</span></td><td>82637451</td><td><span style=white-space:pre-wrap>Caucasian      </span></td><td><span style=white-space:pre-wrap>Male  </span></td><td>[50-60)</td><td>?</td><td>2</td><td> 1</td><td>2</td><td>3</td><td>⋯</td><td>No</td><td>Steady</td><td>No</td><td>No</td><td>No</td><td>No</td><td>No</td><td>No</td><td>Yes</td><td>&gt;30</td></tr>\n",
       "</tbody>\n",
       "</table>\n"
      ],
      "text/latex": [
       "A data.frame: 6 × 50\n",
       "\\begin{tabular}{r|lllllllllllllllllllll}\n",
       "  & encounter\\_id & patient\\_nbr & race & gender & age & weight & admission\\_type\\_id & discharge\\_disposition\\_id & admission\\_source\\_id & time\\_in\\_hospital & ⋯ & citoglipton & insulin & glyburide.metformin & glipizide.metformin & glimepiride.pioglitazone & metformin.rosiglitazone & metformin.pioglitazone & change & diabetesMed & readmitted\\\\\n",
       "  & <int> & <int> & <chr> & <chr> & <chr> & <chr> & <int> & <int> & <int> & <int> & ⋯ & <chr> & <chr> & <chr> & <chr> & <chr> & <chr> & <chr> & <chr> & <chr> & <chr>\\\\\n",
       "\\hline\n",
       "\t1 & 2278392 &  8222157 & Caucasian       & Female & {[}0-10)  & ? & 6 & 25 & 1 & 1 & ⋯ & No & No     & No & No & No & No & No & No & No  & NO \\\\\n",
       "\t2 &  149190 & 55629189 & Caucasian       & Female & {[}10-20) & ? & 1 &  1 & 7 & 3 & ⋯ & No & Up     & No & No & No & No & No & Ch & Yes & >30\\\\\n",
       "\t3 &   64410 & 86047875 & AfricanAmerican & Female & {[}20-30) & ? & 1 &  1 & 7 & 2 & ⋯ & No & No     & No & No & No & No & No & No & Yes & NO \\\\\n",
       "\t4 &  500364 & 82442376 & Caucasian       & Male   & {[}30-40) & ? & 1 &  1 & 7 & 2 & ⋯ & No & Up     & No & No & No & No & No & Ch & Yes & NO \\\\\n",
       "\t5 &   16680 & 42519267 & Caucasian       & Male   & {[}40-50) & ? & 1 &  1 & 7 & 1 & ⋯ & No & Steady & No & No & No & No & No & Ch & Yes & NO \\\\\n",
       "\t6 &   35754 & 82637451 & Caucasian       & Male   & {[}50-60) & ? & 2 &  1 & 2 & 3 & ⋯ & No & Steady & No & No & No & No & No & No & Yes & >30\\\\\n",
       "\\end{tabular}\n"
      ],
      "text/markdown": [
       "\n",
       "A data.frame: 6 × 50\n",
       "\n",
       "| <!--/--> | encounter_id &lt;int&gt; | patient_nbr &lt;int&gt; | race &lt;chr&gt; | gender &lt;chr&gt; | age &lt;chr&gt; | weight &lt;chr&gt; | admission_type_id &lt;int&gt; | discharge_disposition_id &lt;int&gt; | admission_source_id &lt;int&gt; | time_in_hospital &lt;int&gt; | ⋯ ⋯ | citoglipton &lt;chr&gt; | insulin &lt;chr&gt; | glyburide.metformin &lt;chr&gt; | glipizide.metformin &lt;chr&gt; | glimepiride.pioglitazone &lt;chr&gt; | metformin.rosiglitazone &lt;chr&gt; | metformin.pioglitazone &lt;chr&gt; | change &lt;chr&gt; | diabetesMed &lt;chr&gt; | readmitted &lt;chr&gt; |\n",
       "|---|---|---|---|---|---|---|---|---|---|---|---|---|---|---|---|---|---|---|---|---|---|\n",
       "| 1 | 2278392 |  8222157 | Caucasian       | Female | [0-10)  | ? | 6 | 25 | 1 | 1 | ⋯ | No | No     | No | No | No | No | No | No | No  | NO  |\n",
       "| 2 |  149190 | 55629189 | Caucasian       | Female | [10-20) | ? | 1 |  1 | 7 | 3 | ⋯ | No | Up     | No | No | No | No | No | Ch | Yes | &gt;30 |\n",
       "| 3 |   64410 | 86047875 | AfricanAmerican | Female | [20-30) | ? | 1 |  1 | 7 | 2 | ⋯ | No | No     | No | No | No | No | No | No | Yes | NO  |\n",
       "| 4 |  500364 | 82442376 | Caucasian       | Male   | [30-40) | ? | 1 |  1 | 7 | 2 | ⋯ | No | Up     | No | No | No | No | No | Ch | Yes | NO  |\n",
       "| 5 |   16680 | 42519267 | Caucasian       | Male   | [40-50) | ? | 1 |  1 | 7 | 1 | ⋯ | No | Steady | No | No | No | No | No | Ch | Yes | NO  |\n",
       "| 6 |   35754 | 82637451 | Caucasian       | Male   | [50-60) | ? | 2 |  1 | 2 | 3 | ⋯ | No | Steady | No | No | No | No | No | No | Yes | &gt;30 |\n",
       "\n"
      ],
      "text/plain": [
       "  encounter_id patient_nbr race            gender age     weight\n",
       "1 2278392       8222157    Caucasian       Female [0-10)  ?     \n",
       "2  149190      55629189    Caucasian       Female [10-20) ?     \n",
       "3   64410      86047875    AfricanAmerican Female [20-30) ?     \n",
       "4  500364      82442376    Caucasian       Male   [30-40) ?     \n",
       "5   16680      42519267    Caucasian       Male   [40-50) ?     \n",
       "6   35754      82637451    Caucasian       Male   [50-60) ?     \n",
       "  admission_type_id discharge_disposition_id admission_source_id\n",
       "1 6                 25                       1                  \n",
       "2 1                  1                       7                  \n",
       "3 1                  1                       7                  \n",
       "4 1                  1                       7                  \n",
       "5 1                  1                       7                  \n",
       "6 2                  1                       2                  \n",
       "  time_in_hospital ⋯ citoglipton insulin glyburide.metformin\n",
       "1 1                ⋯ No          No      No                 \n",
       "2 3                ⋯ No          Up      No                 \n",
       "3 2                ⋯ No          No      No                 \n",
       "4 2                ⋯ No          Up      No                 \n",
       "5 1                ⋯ No          Steady  No                 \n",
       "6 3                ⋯ No          Steady  No                 \n",
       "  glipizide.metformin glimepiride.pioglitazone metformin.rosiglitazone\n",
       "1 No                  No                       No                     \n",
       "2 No                  No                       No                     \n",
       "3 No                  No                       No                     \n",
       "4 No                  No                       No                     \n",
       "5 No                  No                       No                     \n",
       "6 No                  No                       No                     \n",
       "  metformin.pioglitazone change diabetesMed readmitted\n",
       "1 No                     No     No          NO        \n",
       "2 No                     Ch     Yes         >30       \n",
       "3 No                     No     Yes         NO        \n",
       "4 No                     Ch     Yes         NO        \n",
       "5 No                     Ch     Yes         NO        \n",
       "6 No                     No     Yes         >30       "
      ]
     },
     "metadata": {},
     "output_type": "display_data"
    }
   ],
   "source": [
    "# Load dataset\n",
    "df <- read.csv(\"/kaggle/input/diabetes/diabetic_data.csv\")\n",
    "\n",
    "# Display basic info\n",
    "head(df)\n"
   ]
  },
  {
   "cell_type": "markdown",
   "id": "e967fca9",
   "metadata": {
    "papermill": {
     "duration": 0.004291,
     "end_time": "2025-08-27T14:11:19.280302",
     "exception": false,
     "start_time": "2025-08-27T14:11:19.276011",
     "status": "completed"
    },
    "tags": []
   },
   "source": [
    "4. Data Analyse and Data Cleaning"
   ]
  },
  {
   "cell_type": "code",
   "execution_count": 3,
   "id": "95be6c92",
   "metadata": {
    "execution": {
     "iopub.execute_input": "2025-08-27T14:11:19.292375Z",
     "iopub.status.busy": "2025-08-27T14:11:19.290834Z",
     "iopub.status.idle": "2025-08-27T14:11:23.090130Z",
     "shell.execute_reply": "2025-08-27T14:11:23.088211Z"
    },
    "papermill": {
     "duration": 3.808006,
     "end_time": "2025-08-27T14:11:23.092601",
     "exception": false,
     "start_time": "2025-08-27T14:11:19.284595",
     "status": "completed"
    },
    "tags": []
   },
   "outputs": [
    {
     "data": {
      "text/html": [],
      "text/latex": [],
      "text/markdown": [],
      "text/plain": [
       "named numeric(0)"
      ]
     },
     "metadata": {},
     "output_type": "display_data"
    },
    {
     "data": {
      "text/plain": [
       "\n",
       "  <30   >30    NO \n",
       "11357 35545 54864 "
      ]
     },
     "metadata": {},
     "output_type": "display_data"
    }
   ],
   "source": [
    "# Check missing values\n",
    "missing <- colSums(is.na(df))\n",
    "missing[missing > 0][order(-missing[missing > 0])]\n",
    "\n",
    "# Drop columns with too many missing or irrelevant values\n",
    "df <- subset(df, select = -c(weight, payer_code, medical_specialty, encounter_id, patient_nbr))\n",
    "\n",
    "# Drop duplicates if any\n",
    "df <- df[!duplicated(df), ]\n",
    "\n",
    "# Check class distribution\n",
    "table(df$readmitted)\n"
   ]
  },
  {
   "cell_type": "markdown",
   "id": "7c77d76e",
   "metadata": {
    "papermill": {
     "duration": 0.004476,
     "end_time": "2025-08-27T14:11:23.101778",
     "exception": false,
     "start_time": "2025-08-27T14:11:23.097302",
     "status": "completed"
    },
    "tags": []
   },
   "source": [
    "**5.Feature Engineering**"
   ]
  },
  {
   "cell_type": "code",
   "execution_count": 4,
   "id": "271dc8e0",
   "metadata": {
    "execution": {
     "iopub.execute_input": "2025-08-27T14:11:23.114801Z",
     "iopub.status.busy": "2025-08-27T14:11:23.113199Z",
     "iopub.status.idle": "2025-08-27T14:11:23.688704Z",
     "shell.execute_reply": "2025-08-27T14:11:23.686882Z"
    },
    "papermill": {
     "duration": 0.585124,
     "end_time": "2025-08-27T14:11:23.691785",
     "exception": false,
     "start_time": "2025-08-27T14:11:23.106661",
     "status": "completed"
    },
    "tags": []
   },
   "outputs": [],
   "source": [
    "# Simplify 'readmitted' to binary target\n",
    "df$readmitted <- ifelse(df$readmitted == \"<30\", 1, 0)\n",
    "\n",
    "# Encode categorical features\n",
    "cat_cols <- names(df)[sapply(df, is.character)]\n",
    "\n",
    "for (col in cat_cols) {\n",
    "  df[[col]] <- as.integer(as.factor(df[[col]]))\n",
    "}\n"
   ]
  },
  {
   "cell_type": "markdown",
   "id": "80d56103",
   "metadata": {
    "papermill": {
     "duration": 0.004848,
     "end_time": "2025-08-27T14:11:23.701373",
     "exception": false,
     "start_time": "2025-08-27T14:11:23.696525",
     "status": "completed"
    },
    "tags": []
   },
   "source": [
    "6. **Data Splitting**"
   ]
  },
  {
   "cell_type": "code",
   "execution_count": 5,
   "id": "e20763c5",
   "metadata": {
    "execution": {
     "iopub.execute_input": "2025-08-27T14:11:23.714090Z",
     "iopub.status.busy": "2025-08-27T14:11:23.712461Z",
     "iopub.status.idle": "2025-08-27T14:11:23.859275Z",
     "shell.execute_reply": "2025-08-27T14:11:23.857430Z"
    },
    "papermill": {
     "duration": 0.155973,
     "end_time": "2025-08-27T14:11:23.861928",
     "exception": false,
     "start_time": "2025-08-27T14:11:23.705955",
     "status": "completed"
    },
    "tags": []
   },
   "outputs": [],
   "source": [
    "# Split into features and target\n",
    "X <- subset(df, select = -readmitted)\n",
    "y <- df$readmitted\n",
    "\n",
    "# Train-test split (80% train, 20% test)\n",
    "set.seed(42)\n",
    "train_index <- sample(seq_len(nrow(df)), size = 0.8 * nrow(df))\n",
    "\n",
    "X_train <- X[train_index, ]\n",
    "X_test  <- X[-train_index, ]\n",
    "y_train <- y[train_index]\n",
    "y_test  <- y[-train_index]\n"
   ]
  },
  {
   "cell_type": "markdown",
   "id": "3c11fc06",
   "metadata": {
    "papermill": {
     "duration": 0.005282,
     "end_time": "2025-08-27T14:11:23.872850",
     "exception": false,
     "start_time": "2025-08-27T14:11:23.867568",
     "status": "completed"
    },
    "tags": []
   },
   "source": [
    "7. **Model Training and Evaluating**"
   ]
  },
  {
   "cell_type": "code",
   "execution_count": 6,
   "id": "c6a573e1",
   "metadata": {
    "execution": {
     "iopub.execute_input": "2025-08-27T14:11:23.886090Z",
     "iopub.status.busy": "2025-08-27T14:11:23.884449Z",
     "iopub.status.idle": "2025-08-27T14:13:08.631100Z",
     "shell.execute_reply": "2025-08-27T14:13:08.628921Z"
    },
    "papermill": {
     "duration": 104.758544,
     "end_time": "2025-08-27T14:13:08.636134",
     "exception": false,
     "start_time": "2025-08-27T14:11:23.877590",
     "status": "completed"
    },
    "tags": []
   },
   "outputs": [
    {
     "name": "stdout",
     "output_type": "stream",
     "text": [
      "Random Forest Accuracy: 0.7827454 \n"
     ]
    },
    {
     "name": "stdout",
     "output_type": "stream",
     "text": [
      "Confusion Matrix and Statistics\n",
      "\n",
      "          Reference\n",
      "Prediction     0     1\n",
      "         0 15170  1515\n",
      "         1  2907   762\n",
      "                                         \n",
      "               Accuracy : 0.7827         \n",
      "                 95% CI : (0.777, 0.7884)\n",
      "    No Information Rate : 0.8881         \n",
      "    P-Value [Acc > NIR] : 1              \n",
      "                                         \n",
      "                  Kappa : 0.1372         \n",
      "                                         \n",
      " Mcnemar's Test P-Value : <2e-16         \n",
      "                                         \n",
      "            Sensitivity : 0.8392         \n",
      "            Specificity : 0.3347         \n",
      "         Pos Pred Value : 0.9092         \n",
      "         Neg Pred Value : 0.2077         \n",
      "             Prevalence : 0.8881         \n",
      "         Detection Rate : 0.7453         \n",
      "   Detection Prevalence : 0.8197         \n",
      "      Balanced Accuracy : 0.5869         \n",
      "                                         \n",
      "       'Positive' Class : 0              \n",
      "                                         \n"
     ]
    },
    {
     "name": "stdout",
     "output_type": "stream",
     "text": [
      "         Sensitivity          Specificity       Pos Pred Value \n",
      "           0.8391879            0.3346509            0.9091999 \n",
      "      Neg Pred Value            Precision               Recall \n",
      "           0.2076860            0.9091999            0.8391879 \n",
      "                  F1           Prevalence       Detection Rate \n",
      "           0.8727921            0.8881301            0.7453080 \n",
      "Detection Prevalence    Balanced Accuracy \n",
      "           0.8197406            0.5869194 \n"
     ]
    },
    {
     "name": "stdout",
     "output_type": "stream",
     "text": [
      "      Accuracy          Kappa  AccuracyLower  AccuracyUpper   AccuracyNull \n",
      "  7.827454e-01   1.371873e-01   7.770154e-01   7.883945e-01   8.881301e-01 \n",
      "AccuracyPValue  McnemarPValue \n",
      "  1.000000e+00   3.680834e-97 \n"
     ]
    }
   ],
   "source": [
    "\n",
    "\n",
    "# Train Random Forest model (with class weights)\n",
    "# Compute class weights inversely proportional to frequency\n",
    "class_weights <- table(y_train)\n",
    "class_weights <- as.numeric(sum(class_weights)) / (length(class_weights) * class_weights)\n",
    "\n",
    "rf <- randomForest(\n",
    "  x = X_train, \n",
    "  y = as.factor(y_train), \n",
    "  ntree = 100,\n",
    "  strata = y_train,\n",
    "  sampsize = rep(min(table(y_train)), 2), # balance sampling\n",
    "  importance = TRUE\n",
    ")\n",
    "\n",
    "# Predict\n",
    "y_pred <- predict(rf, X_test)\n",
    "\n",
    "# Evaluation\n",
    "accuracy <- mean(y_pred == y_test)\n",
    "cat(\"Random Forest Accuracy:\", accuracy, \"\\n\")\n",
    "\n",
    "# Confusion matrix\n",
    "conf_mat <- confusionMatrix(as.factor(y_pred), as.factor(y_test))\n",
    "print(conf_mat)\n",
    "\n",
    "# Classification report (precision, recall, F1)\n",
    "print(conf_mat$byClass)   # per-class metrics\n",
    "print(conf_mat$overall)   # overall accuracy, Kappa, etc.\n"
   ]
  },
  {
   "cell_type": "markdown",
   "id": "5c2e04ca",
   "metadata": {
    "papermill": {
     "duration": 0.006173,
     "end_time": "2025-08-27T14:13:08.651576",
     "exception": false,
     "start_time": "2025-08-27T14:13:08.645403",
     "status": "completed"
    },
    "tags": []
   },
   "source": [
    "**8. Feature Importance Evaluation**"
   ]
  },
  {
   "cell_type": "code",
   "execution_count": 7,
   "id": "62457d62",
   "metadata": {
    "execution": {
     "iopub.execute_input": "2025-08-27T14:13:08.664901Z",
     "iopub.status.busy": "2025-08-27T14:13:08.663307Z",
     "iopub.status.idle": "2025-08-27T14:13:09.263389Z",
     "shell.execute_reply": "2025-08-27T14:13:09.259566Z"
    },
    "papermill": {
     "duration": 0.610842,
     "end_time": "2025-08-27T14:13:09.267166",
     "exception": false,
     "start_time": "2025-08-27T14:13:08.656324",
     "status": "completed"
    },
    "tags": []
   },
   "outputs": [
    {
     "data": {
      "image/png": "[encoded data removed]"
     },
     "metadata": {
      "image/png": {
       "height": 420,
       "width": 420
      }
     },
     "output_type": "display_data"
    }
   ],
   "source": [
    "# Feature importance\n",
    "importances <- importance(rf)\n",
    "indices <- order(importances[, 1], decreasing = TRUE)\n",
    "features <- colnames(X_train)\n",
    "\n",
    "# Plot\n",
    "library(ggplot2)\n",
    "top_features <- data.frame(\n",
    "  Feature = features[indices][1:10],\n",
    "  Importance = importances[indices, 1][1:10]\n",
    ")\n",
    "\n",
    "ggplot(top_features, aes(x = Importance, y = reorder(Feature, Importance))) +\n",
    "  geom_bar(stat = \"identity\", fill = \"steelblue\") +\n",
    "  ggtitle(\"Top 10 Important Features\") +\n",
    "  theme_minimal()\n"
   ]
  },
  {
   "cell_type": "markdown",
   "id": "20cc12a2",
   "metadata": {
    "papermill": {
     "duration": 0.006501,
     "end_time": "2025-08-27T14:13:09.279599",
     "exception": false,
     "start_time": "2025-08-27T14:13:09.273098",
     "status": "completed"
    },
    "tags": []
   },
   "source": [
    "**9. Conclusion**\n",
    "\n",
    "This project demonstrated the potential of machine learning in medical diagnosis. Our Random Forest classifier performed reasonably well in identifying patients at high risk of readmission due to diabetes.\n",
    "\n",
    "Future work may include:\n",
    "\n",
    "1.Trying different models (XGBoost, SVM)\n",
    "2.Hyperparameter tuning\n",
    "3.Handling class imbalance (SMOTE)\n",
    "4.Integrating time-based features or external health data\n",
    "This workflow can be adapted for many engineering applications involving predictive modeling."
   ]
  }
 ],
 "metadata": {
  "kaggle": {
   "accelerator": "none",
   "dataSources": [
    {
     "datasetId": 3724,
     "sourceId": 5903,
     "sourceType": "datasetVersion"
    }
   ],
   "dockerImageVersionId": 30749,
   "isGpuEnabled": false,
   "isInternetEnabled": true,
   "language": "r",
   "sourceType": "notebook"
  },
  "kernelspec": {
   "display_name": "R",
   "language": "R",
   "name": "ir"
  },
  "language_info": {
   "codemirror_mode": "r",
   "file_extension": ".r",
   "mimetype": "text/x-r-source",
   "name": "R",
   "pygments_lexer": "r",
   "version": "4.4.0"
  },
  "papermill": {
   "default_parameters": {},
   "duration": 120.077292,
   "end_time": "2025-08-27T14:13:09.408936",
   "environment_variables": {},
   "exception": null,
   "input_path": "__notebook__.ipynb",
   "output_path": "__notebook__.ipynb",
   "parameters": {},
   "start_time": "2025-08-27T14:11:09.331644",
   "version": "2.6.0"
  }
 },
 "nbformat": 4,
 "nbformat_minor": 5
}
