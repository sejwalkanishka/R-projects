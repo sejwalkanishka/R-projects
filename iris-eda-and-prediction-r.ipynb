{
 "cells": [
  {
   "cell_type": "markdown",
   "id": "764d791e",
   "metadata": {
    "papermill": {
     "duration": 0.00752,
     "end_time": "2025-08-26T18:54:39.254899",
     "exception": false,
     "start_time": "2025-08-26T18:54:39.247379",
     "status": "completed"
    },
    "tags": []
   },
   "source": [
    "# Suppress warnings globally"
   ]
  },
  {
   "cell_type": "code",
   "execution_count": 1,
   "id": "b590fa7c",
   "metadata": {
    "execution": {
     "iopub.execute_input": "2025-08-26T18:54:39.272896Z",
     "iopub.status.busy": "2025-08-26T18:54:39.270564Z",
     "iopub.status.idle": "2025-08-26T18:54:39.461557Z",
     "shell.execute_reply": "2025-08-26T18:54:39.459395Z"
    },
    "papermill": {
     "duration": 0.203108,
     "end_time": "2025-08-26T18:54:39.464747",
     "exception": false,
     "start_time": "2025-08-26T18:54:39.261639",
     "status": "completed"
    },
    "tags": []
   },
   "outputs": [],
   "source": [
    "options(warn = -1)   # turn off warnings"
   ]
  },
  {
   "cell_type": "markdown",
   "id": "77e14013",
   "metadata": {
    "papermill": {
     "duration": 0.007316,
     "end_time": "2025-08-26T18:54:39.479840",
     "exception": false,
     "start_time": "2025-08-26T18:54:39.472524",
     "status": "completed"
    },
    "tags": []
   },
   "source": [
    "# Suppress warnings for a specific line/block"
   ]
  },
  {
   "cell_type": "code",
   "execution_count": 2,
   "id": "1ec9e763",
   "metadata": {
    "execution": {
     "iopub.execute_input": "2025-08-26T18:54:39.530823Z",
     "iopub.status.busy": "2025-08-26T18:54:39.496575Z",
     "iopub.status.idle": "2025-08-26T18:55:31.804790Z",
     "shell.execute_reply": "2025-08-26T18:55:31.802624Z"
    },
    "papermill": {
     "duration": 52.320818,
     "end_time": "2025-08-26T18:55:31.807955",
     "exception": false,
     "start_time": "2025-08-26T18:54:39.487137",
     "status": "completed"
    },
    "tags": []
   },
   "outputs": [
    {
     "name": "stderr",
     "output_type": "stream",
     "text": [
      "Installing package into ‘/usr/local/lib/R/site-library’\n",
      "(as ‘lib’ is unspecified)\n",
      "\n"
     ]
    },
    {
     "name": "stderr",
     "output_type": "stream",
     "text": [
      "Installing package into ‘/usr/local/lib/R/site-library’\n",
      "(as ‘lib’ is unspecified)\n",
      "\n"
     ]
    }
   ],
   "source": [
    "install.packages(\"caret\")\n",
    "install.packages(\"randomForest\")  # caret uses this for rf method"
   ]
  },
  {
   "cell_type": "markdown",
   "id": "4498a991",
   "metadata": {
    "papermill": {
     "duration": 0.006761,
     "end_time": "2025-08-26T18:55:31.821693",
     "exception": false,
     "start_time": "2025-08-26T18:55:31.814932",
     "status": "completed"
    },
    "tags": []
   },
   "source": [
    "# Load Libraries"
   ]
  },
  {
   "cell_type": "code",
   "execution_count": 3,
   "id": "af61325e",
   "metadata": {
    "execution": {
     "iopub.execute_input": "2025-08-26T18:55:31.852373Z",
     "iopub.status.busy": "2025-08-26T18:55:31.850417Z",
     "iopub.status.idle": "2025-08-26T18:57:02.966918Z",
     "shell.execute_reply": "2025-08-26T18:57:02.964967Z"
    },
    "papermill": {
     "duration": 91.142281,
     "end_time": "2025-08-26T18:57:02.970814",
     "exception": false,
     "start_time": "2025-08-26T18:55:31.828533",
     "status": "completed"
    },
    "tags": []
   },
   "outputs": [
    {
     "name": "stderr",
     "output_type": "stream",
     "text": [
      "Installing package into ‘/usr/local/lib/R/site-library’\n",
      "(as ‘lib’ is unspecified)\n",
      "\n"
     ]
    },
    {
     "name": "stderr",
     "output_type": "stream",
     "text": [
      "Installing package into ‘/usr/local/lib/R/site-library’\n",
      "(as ‘lib’ is unspecified)\n",
      "\n"
     ]
    },
    {
     "name": "stderr",
     "output_type": "stream",
     "text": [
      "Installing package into ‘/usr/local/lib/R/site-library’\n",
      "(as ‘lib’ is unspecified)\n",
      "\n"
     ]
    },
    {
     "name": "stderr",
     "output_type": "stream",
     "text": [
      "Installing package into ‘/usr/local/lib/R/site-library’\n",
      "(as ‘lib’ is unspecified)\n",
      "\n"
     ]
    }
   ],
   "source": [
    "install.packages(\"caret\")\n",
    "install.packages(\"randomForest\")\n",
    "install.packages(\"ggplot2\")\n",
    "install.packages(\"dplyr\")"
   ]
  },
  {
   "cell_type": "code",
   "execution_count": 4,
   "id": "0653a302",
   "metadata": {
    "execution": {
     "iopub.execute_input": "2025-08-26T18:57:02.994420Z",
     "iopub.status.busy": "2025-08-26T18:57:02.992723Z",
     "iopub.status.idle": "2025-08-26T18:57:05.558133Z",
     "shell.execute_reply": "2025-08-26T18:57:05.555793Z"
    },
    "papermill": {
     "duration": 2.578562,
     "end_time": "2025-08-26T18:57:05.561703",
     "exception": false,
     "start_time": "2025-08-26T18:57:02.983141",
     "status": "completed"
    },
    "tags": []
   },
   "outputs": [
    {
     "name": "stderr",
     "output_type": "stream",
     "text": [
      "Loading required package: ggplot2\n",
      "\n"
     ]
    },
    {
     "name": "stderr",
     "output_type": "stream",
     "text": [
      "Loading required package: lattice\n",
      "\n"
     ]
    },
    {
     "name": "stderr",
     "output_type": "stream",
     "text": [
      "\n",
      "Attaching package: ‘caret’\n",
      "\n",
      "\n"
     ]
    },
    {
     "name": "stderr",
     "output_type": "stream",
     "text": [
      "The following object is masked from ‘package:httr’:\n",
      "\n",
      "    progress\n",
      "\n",
      "\n"
     ]
    },
    {
     "name": "stderr",
     "output_type": "stream",
     "text": [
      "randomForest 4.7-1.2\n",
      "\n"
     ]
    },
    {
     "name": "stderr",
     "output_type": "stream",
     "text": [
      "Type rfNews() to see new features/changes/bug fixes.\n",
      "\n"
     ]
    },
    {
     "name": "stderr",
     "output_type": "stream",
     "text": [
      "\n",
      "Attaching package: ‘randomForest’\n",
      "\n",
      "\n"
     ]
    },
    {
     "name": "stderr",
     "output_type": "stream",
     "text": [
      "The following object is masked from ‘package:ggplot2’:\n",
      "\n",
      "    margin\n",
      "\n",
      "\n"
     ]
    },
    {
     "name": "stderr",
     "output_type": "stream",
     "text": [
      "\n",
      "Attaching package: ‘dplyr’\n",
      "\n",
      "\n"
     ]
    },
    {
     "name": "stderr",
     "output_type": "stream",
     "text": [
      "The following object is masked from ‘package:randomForest’:\n",
      "\n",
      "    combine\n",
      "\n",
      "\n"
     ]
    },
    {
     "name": "stderr",
     "output_type": "stream",
     "text": [
      "The following objects are masked from ‘package:stats’:\n",
      "\n",
      "    filter, lag\n",
      "\n",
      "\n"
     ]
    },
    {
     "name": "stderr",
     "output_type": "stream",
     "text": [
      "The following objects are masked from ‘package:base’:\n",
      "\n",
      "    intersect, setdiff, setequal, union\n",
      "\n",
      "\n"
     ]
    }
   ],
   "source": [
    "library(caret)\n",
    "library(randomForest)\n",
    "library(ggplot2)\n",
    "library(dplyr)\n",
    "library(readr)"
   ]
  },
  {
   "cell_type": "markdown",
   "id": "e8562dfb",
   "metadata": {
    "papermill": {
     "duration": 0.007831,
     "end_time": "2025-08-26T18:57:05.577273",
     "exception": false,
     "start_time": "2025-08-26T18:57:05.569442",
     "status": "completed"
    },
    "tags": []
   },
   "source": [
    "# Turn warnings back on"
   ]
  },
  {
   "cell_type": "code",
   "execution_count": 5,
   "id": "6560cf3e",
   "metadata": {
    "execution": {
     "iopub.execute_input": "2025-08-26T18:57:05.598684Z",
     "iopub.status.busy": "2025-08-26T18:57:05.596466Z",
     "iopub.status.idle": "2025-08-26T18:57:05.611824Z",
     "shell.execute_reply": "2025-08-26T18:57:05.609811Z"
    },
    "papermill": {
     "duration": 0.028252,
     "end_time": "2025-08-26T18:57:05.614629",
     "exception": false,
     "start_time": "2025-08-26T18:57:05.586377",
     "status": "completed"
    },
    "tags": []
   },
   "outputs": [],
   "source": [
    "options(warn = 0)   # default, warnings will show again"
   ]
  },
  {
   "cell_type": "code",
   "execution_count": 6,
   "id": "8f48cc5a",
   "metadata": {
    "execution": {
     "iopub.execute_input": "2025-08-26T18:57:05.634628Z",
     "iopub.status.busy": "2025-08-26T18:57:05.632771Z",
     "iopub.status.idle": "2025-08-26T18:57:05.653967Z",
     "shell.execute_reply": "2025-08-26T18:57:05.651860Z"
    },
    "papermill": {
     "duration": 0.034384,
     "end_time": "2025-08-26T18:57:05.656910",
     "exception": false,
     "start_time": "2025-08-26T18:57:05.622526",
     "status": "completed"
    },
    "tags": []
   },
   "outputs": [],
   "source": [
    "library(ggplot2)\n",
    "library(dplyr)\n",
    "library(caret)\n",
    "library(readr)"
   ]
  },
  {
   "cell_type": "markdown",
   "id": "4113a876",
   "metadata": {
    "papermill": {
     "duration": 0.008644,
     "end_time": "2025-08-26T18:57:05.674444",
     "exception": false,
     "start_time": "2025-08-26T18:57:05.665800",
     "status": "completed"
    },
    "tags": []
   },
   "source": [
    "# Load Dataset"
   ]
  },
  {
   "cell_type": "code",
   "execution_count": 7,
   "id": "3aee315d",
   "metadata": {
    "execution": {
     "iopub.execute_input": "2025-08-26T18:57:05.694217Z",
     "iopub.status.busy": "2025-08-26T18:57:05.692306Z",
     "iopub.status.idle": "2025-08-26T18:57:06.011838Z",
     "shell.execute_reply": "2025-08-26T18:57:06.009500Z"
    },
    "papermill": {
     "duration": 0.333087,
     "end_time": "2025-08-26T18:57:06.015268",
     "exception": false,
     "start_time": "2025-08-26T18:57:05.682181",
     "status": "completed"
    },
    "tags": []
   },
   "outputs": [
    {
     "name": "stderr",
     "output_type": "stream",
     "text": [
      "\u001b[1mRows: \u001b[22m\u001b[34m150\u001b[39m \u001b[1mColumns: \u001b[22m\u001b[34m6\u001b[39m\n"
     ]
    },
    {
     "name": "stderr",
     "output_type": "stream",
     "text": [
      "\u001b[36m──\u001b[39m \u001b[1mColumn specification\u001b[22m \u001b[36m────────────────────────────────────────────────────────\u001b[39m\n",
      "\u001b[1mDelimiter:\u001b[22m \",\"\n",
      "\u001b[31mchr\u001b[39m (1): Species\n",
      "\u001b[32mdbl\u001b[39m (5): Id, SepalLengthCm, SepalWidthCm, PetalLengthCm, PetalWidthCm\n"
     ]
    },
    {
     "name": "stderr",
     "output_type": "stream",
     "text": [
      "\n",
      "\u001b[36mℹ\u001b[39m Use `spec()` to retrieve the full column specification for this data.\n",
      "\u001b[36mℹ\u001b[39m Specify the column types or set `show_col_types = FALSE` to quiet this message.\n"
     ]
    }
   ],
   "source": [
    "iris_data <- read_csv(\"/kaggle/input/iris/Iris.csv\")"
   ]
  },
  {
   "cell_type": "markdown",
   "id": "29842404",
   "metadata": {
    "papermill": {
     "duration": 0.007822,
     "end_time": "2025-08-26T18:57:06.030683",
     "exception": false,
     "start_time": "2025-08-26T18:57:06.022861",
     "status": "completed"
    },
    "tags": []
   },
   "source": [
    "# Quick view"
   ]
  },
  {
   "cell_type": "code",
   "execution_count": 8,
   "id": "1a3bd721",
   "metadata": {
    "execution": {
     "iopub.execute_input": "2025-08-26T18:57:06.050240Z",
     "iopub.status.busy": "2025-08-26T18:57:06.048490Z",
     "iopub.status.idle": "2025-08-26T18:57:06.134697Z",
     "shell.execute_reply": "2025-08-26T18:57:06.132140Z"
    },
    "papermill": {
     "duration": 0.099573,
     "end_time": "2025-08-26T18:57:06.138094",
     "exception": false,
     "start_time": "2025-08-26T18:57:06.038521",
     "status": "completed"
    },
    "tags": []
   },
   "outputs": [
    {
     "data": {
      "text/html": [
       "<table class=\"dataframe\">\n",
       "<caption>A tibble: 6 × 6</caption>\n",
       "<thead>\n",
       "\t<tr><th scope=col>Id</th><th scope=col>SepalLengthCm</th><th scope=col>SepalWidthCm</th><th scope=col>PetalLengthCm</th><th scope=col>PetalWidthCm</th><th scope=col>Species</th></tr>\n",
       "\t<tr><th scope=col>&lt;dbl&gt;</th><th scope=col>&lt;dbl&gt;</th><th scope=col>&lt;dbl&gt;</th><th scope=col>&lt;dbl&gt;</th><th scope=col>&lt;dbl&gt;</th><th scope=col>&lt;chr&gt;</th></tr>\n",
       "</thead>\n",
       "<tbody>\n",
       "\t<tr><td>1</td><td>5.1</td><td>3.5</td><td>1.4</td><td>0.2</td><td>Iris-setosa</td></tr>\n",
       "\t<tr><td>2</td><td>4.9</td><td>3.0</td><td>1.4</td><td>0.2</td><td>Iris-setosa</td></tr>\n",
       "\t<tr><td>3</td><td>4.7</td><td>3.2</td><td>1.3</td><td>0.2</td><td>Iris-setosa</td></tr>\n",
       "\t<tr><td>4</td><td>4.6</td><td>3.1</td><td>1.5</td><td>0.2</td><td>Iris-setosa</td></tr>\n",
       "\t<tr><td>5</td><td>5.0</td><td>3.6</td><td>1.4</td><td>0.2</td><td>Iris-setosa</td></tr>\n",
       "\t<tr><td>6</td><td>5.4</td><td>3.9</td><td>1.7</td><td>0.4</td><td>Iris-setosa</td></tr>\n",
       "</tbody>\n",
       "</table>\n"
      ],
      "text/latex": [
       "A tibble: 6 × 6\n",
       "\\begin{tabular}{llllll}\n",
       " Id & SepalLengthCm & SepalWidthCm & PetalLengthCm & PetalWidthCm & Species\\\\\n",
       " <dbl> & <dbl> & <dbl> & <dbl> & <dbl> & <chr>\\\\\n",
       "\\hline\n",
       "\t 1 & 5.1 & 3.5 & 1.4 & 0.2 & Iris-setosa\\\\\n",
       "\t 2 & 4.9 & 3.0 & 1.4 & 0.2 & Iris-setosa\\\\\n",
       "\t 3 & 4.7 & 3.2 & 1.3 & 0.2 & Iris-setosa\\\\\n",
       "\t 4 & 4.6 & 3.1 & 1.5 & 0.2 & Iris-setosa\\\\\n",
       "\t 5 & 5.0 & 3.6 & 1.4 & 0.2 & Iris-setosa\\\\\n",
       "\t 6 & 5.4 & 3.9 & 1.7 & 0.4 & Iris-setosa\\\\\n",
       "\\end{tabular}\n"
      ],
      "text/markdown": [
       "\n",
       "A tibble: 6 × 6\n",
       "\n",
       "| Id &lt;dbl&gt; | SepalLengthCm &lt;dbl&gt; | SepalWidthCm &lt;dbl&gt; | PetalLengthCm &lt;dbl&gt; | PetalWidthCm &lt;dbl&gt; | Species &lt;chr&gt; |\n",
       "|---|---|---|---|---|---|\n",
       "| 1 | 5.1 | 3.5 | 1.4 | 0.2 | Iris-setosa |\n",
       "| 2 | 4.9 | 3.0 | 1.4 | 0.2 | Iris-setosa |\n",
       "| 3 | 4.7 | 3.2 | 1.3 | 0.2 | Iris-setosa |\n",
       "| 4 | 4.6 | 3.1 | 1.5 | 0.2 | Iris-setosa |\n",
       "| 5 | 5.0 | 3.6 | 1.4 | 0.2 | Iris-setosa |\n",
       "| 6 | 5.4 | 3.9 | 1.7 | 0.4 | Iris-setosa |\n",
       "\n"
      ],
      "text/plain": [
       "  Id SepalLengthCm SepalWidthCm PetalLengthCm PetalWidthCm Species    \n",
       "1 1  5.1           3.5          1.4           0.2          Iris-setosa\n",
       "2 2  4.9           3.0          1.4           0.2          Iris-setosa\n",
       "3 3  4.7           3.2          1.3           0.2          Iris-setosa\n",
       "4 4  4.6           3.1          1.5           0.2          Iris-setosa\n",
       "5 5  5.0           3.6          1.4           0.2          Iris-setosa\n",
       "6 6  5.4           3.9          1.7           0.4          Iris-setosa"
      ]
     },
     "metadata": {},
     "output_type": "display_data"
    },
    {
     "name": "stdout",
     "output_type": "stream",
     "text": [
      "spc_tbl_ [150 × 6] (S3: spec_tbl_df/tbl_df/tbl/data.frame)\n",
      " $ Id           : num [1:150] 1 2 3 4 5 6 7 8 9 10 ...\n",
      " $ SepalLengthCm: num [1:150] 5.1 4.9 4.7 4.6 5 5.4 4.6 5 4.4 4.9 ...\n",
      " $ SepalWidthCm : num [1:150] 3.5 3 3.2 3.1 3.6 3.9 3.4 3.4 2.9 3.1 ...\n",
      " $ PetalLengthCm: num [1:150] 1.4 1.4 1.3 1.5 1.4 1.7 1.4 1.5 1.4 1.5 ...\n",
      " $ PetalWidthCm : num [1:150] 0.2 0.2 0.2 0.2 0.2 0.4 0.3 0.2 0.2 0.1 ...\n",
      " $ Species      : chr [1:150] \"Iris-setosa\" \"Iris-setosa\" \"Iris-setosa\" \"Iris-setosa\" ...\n",
      " - attr(*, \"spec\")=\n",
      "  .. cols(\n",
      "  ..   Id = \u001b[32mcol_double()\u001b[39m,\n",
      "  ..   SepalLengthCm = \u001b[32mcol_double()\u001b[39m,\n",
      "  ..   SepalWidthCm = \u001b[32mcol_double()\u001b[39m,\n",
      "  ..   PetalLengthCm = \u001b[32mcol_double()\u001b[39m,\n",
      "  ..   PetalWidthCm = \u001b[32mcol_double()\u001b[39m,\n",
      "  ..   Species = \u001b[31mcol_character()\u001b[39m\n",
      "  .. )\n",
      " - attr(*, \"problems\")=<externalptr> \n"
     ]
    },
    {
     "data": {
      "text/plain": [
       "       Id         SepalLengthCm    SepalWidthCm   PetalLengthCm  \n",
       " Min.   :  1.00   Min.   :4.300   Min.   :2.000   Min.   :1.000  \n",
       " 1st Qu.: 38.25   1st Qu.:5.100   1st Qu.:2.800   1st Qu.:1.600  \n",
       " Median : 75.50   Median :5.800   Median :3.000   Median :4.350  \n",
       " Mean   : 75.50   Mean   :5.843   Mean   :3.054   Mean   :3.759  \n",
       " 3rd Qu.:112.75   3rd Qu.:6.400   3rd Qu.:3.300   3rd Qu.:5.100  \n",
       " Max.   :150.00   Max.   :7.900   Max.   :4.400   Max.   :6.900  \n",
       "  PetalWidthCm     Species         \n",
       " Min.   :0.100   Length:150        \n",
       " 1st Qu.:0.300   Class :character  \n",
       " Median :1.300   Mode  :character  \n",
       " Mean   :1.199                     \n",
       " 3rd Qu.:1.800                     \n",
       " Max.   :2.500                     "
      ]
     },
     "metadata": {},
     "output_type": "display_data"
    }
   ],
   "source": [
    "head(iris_data)\n",
    "str(iris_data)\n",
    "summary(iris_data)"
   ]
  },
  {
   "cell_type": "markdown",
   "id": "f7e44ea1",
   "metadata": {
    "papermill": {
     "duration": 0.009685,
     "end_time": "2025-08-26T18:57:06.156197",
     "exception": false,
     "start_time": "2025-08-26T18:57:06.146512",
     "status": "completed"
    },
    "tags": []
   },
   "source": [
    "\n",
    "# Drop Id column if exists"
   ]
  },
  {
   "cell_type": "code",
   "execution_count": 9,
   "id": "79165091",
   "metadata": {
    "execution": {
     "iopub.execute_input": "2025-08-26T18:57:06.177693Z",
     "iopub.status.busy": "2025-08-26T18:57:06.175928Z",
     "iopub.status.idle": "2025-08-26T18:57:06.202165Z",
     "shell.execute_reply": "2025-08-26T18:57:06.200281Z"
    },
    "papermill": {
     "duration": 0.040846,
     "end_time": "2025-08-26T18:57:06.205939",
     "exception": false,
     "start_time": "2025-08-26T18:57:06.165093",
     "status": "completed"
    },
    "tags": []
   },
   "outputs": [],
   "source": [
    "iris_data <- iris_data %>% select(-Id)"
   ]
  },
  {
   "cell_type": "markdown",
   "id": "02031002",
   "metadata": {
    "papermill": {
     "duration": 0.009862,
     "end_time": "2025-08-26T18:57:06.224534",
     "exception": false,
     "start_time": "2025-08-26T18:57:06.214672",
     "status": "completed"
    },
    "tags": []
   },
   "source": [
    "# EDA (Exploratory Data Analysis)"
   ]
  },
  {
   "cell_type": "markdown",
   "id": "d5242e0e",
   "metadata": {
    "papermill": {
     "duration": 0.009036,
     "end_time": "2025-08-26T18:57:06.242587",
     "exception": false,
     "start_time": "2025-08-26T18:57:06.233551",
     "status": "completed"
    },
    "tags": []
   },
   "source": [
    "## Class distribution"
   ]
  },
  {
   "cell_type": "code",
   "execution_count": 10,
   "id": "e646385f",
   "metadata": {
    "execution": {
     "iopub.execute_input": "2025-08-26T18:57:06.263311Z",
     "iopub.status.busy": "2025-08-26T18:57:06.261624Z",
     "iopub.status.idle": "2025-08-26T18:57:06.282655Z",
     "shell.execute_reply": "2025-08-26T18:57:06.280227Z"
    },
    "papermill": {
     "duration": 0.035133,
     "end_time": "2025-08-26T18:57:06.286002",
     "exception": false,
     "start_time": "2025-08-26T18:57:06.250869",
     "status": "completed"
    },
    "tags": []
   },
   "outputs": [
    {
     "data": {
      "text/plain": [
       "\n",
       "    Iris-setosa Iris-versicolor  Iris-virginica \n",
       "             50              50              50 "
      ]
     },
     "metadata": {},
     "output_type": "display_data"
    }
   ],
   "source": [
    "table(iris_data$Species)"
   ]
  },
  {
   "cell_type": "markdown",
   "id": "e1c20d68",
   "metadata": {
    "papermill": {
     "duration": 0.008767,
     "end_time": "2025-08-26T18:57:06.303007",
     "exception": false,
     "start_time": "2025-08-26T18:57:06.294240",
     "status": "completed"
    },
    "tags": []
   },
   "source": [
    "# Pairplot (scatterplot matrix)"
   ]
  },
  {
   "cell_type": "code",
   "execution_count": 11,
   "id": "f3b620ae",
   "metadata": {
    "execution": {
     "iopub.execute_input": "2025-08-26T18:57:06.324126Z",
     "iopub.status.busy": "2025-08-26T18:57:06.321856Z",
     "iopub.status.idle": "2025-08-26T18:57:06.672426Z",
     "shell.execute_reply": "2025-08-26T18:57:06.670240Z"
    },
    "papermill": {
     "duration": 0.364062,
     "end_time": "2025-08-26T18:57:06.675351",
     "exception": false,
     "start_time": "2025-08-26T18:57:06.311289",
     "status": "completed"
    },
    "tags": []
   },
   "outputs": [
    {
     "name": "stderr",
     "output_type": "stream",
     "text": [
      "Warning message in pairs.default(iris_data[, 1:4], col = as.numeric(iris_data$Species), :\n",
      "“NAs introduced by coercion”\n"
     ]
    },
    {
     "data": {
      "image/png": "[encoded data removed]"
     },
     "metadata": {
      "image/png": {
       "height": 420,
       "width": 420
      }
     },
     "output_type": "display_data"
    }
   ],
   "source": [
    "pairs(iris_data[,1:4],\n",
    "      col = as.numeric(iris_data$Species),\n",
    "      pch = 19)   # pch=19 makes filled circles"
   ]
  },
  {
   "cell_type": "markdown",
   "id": "1fe51114",
   "metadata": {
    "papermill": {
     "duration": 0.010105,
     "end_time": "2025-08-26T18:57:06.695052",
     "exception": false,
     "start_time": "2025-08-26T18:57:06.684947",
     "status": "completed"
    },
    "tags": []
   },
   "source": [
    "# Boxplots"
   ]
  },
  {
   "cell_type": "code",
   "execution_count": 12,
   "id": "58809d5a",
   "metadata": {
    "execution": {
     "iopub.execute_input": "2025-08-26T18:57:06.720847Z",
     "iopub.status.busy": "2025-08-26T18:57:06.718954Z",
     "iopub.status.idle": "2025-08-26T18:57:08.239475Z",
     "shell.execute_reply": "2025-08-26T18:57:08.237579Z"
    },
    "papermill": {
     "duration": 1.536214,
     "end_time": "2025-08-26T18:57:08.241930",
     "exception": false,
     "start_time": "2025-08-26T18:57:06.705716",
     "status": "completed"
    },
    "tags": []
   },
   "outputs": [
    {
     "data": {
      "image/png": "[encoded data removed]"
     },
     "metadata": {
      "image/png": {
       "height": 420,
       "width": 420
      }
     },
     "output_type": "display_data"
    },
    {
     "data": {
      "image/png": "[encoded data removed]"
     },
     "metadata": {
      "image/png": {
       "height": 420,
       "width": 420
      }
     },
     "output_type": "display_data"
    }
   ],
   "source": [
    "ggplot(iris_data, aes(x = Species, y = SepalLengthCm, fill = Species)) +\n",
    "  geom_boxplot() + theme_minimal()\n",
    "\n",
    "ggplot(iris_data, aes(x = Species, y = PetalLengthCm, fill = Species)) +\n",
    "  geom_boxplot() + theme_minimal()"
   ]
  },
  {
   "cell_type": "markdown",
   "id": "61284109",
   "metadata": {
    "papermill": {
     "duration": 0.010763,
     "end_time": "2025-08-26T18:57:08.263577",
     "exception": false,
     "start_time": "2025-08-26T18:57:08.252814",
     "status": "completed"
    },
    "tags": []
   },
   "source": [
    "# Correlation heatmap"
   ]
  },
  {
   "cell_type": "code",
   "execution_count": 13,
   "id": "2a935db8",
   "metadata": {
    "execution": {
     "iopub.execute_input": "2025-08-26T18:57:08.290888Z",
     "iopub.status.busy": "2025-08-26T18:57:08.289238Z",
     "iopub.status.idle": "2025-08-26T18:57:08.314327Z",
     "shell.execute_reply": "2025-08-26T18:57:08.311772Z"
    },
    "papermill": {
     "duration": 0.043235,
     "end_time": "2025-08-26T18:57:08.317800",
     "exception": false,
     "start_time": "2025-08-26T18:57:08.274565",
     "status": "completed"
    },
    "tags": []
   },
   "outputs": [
    {
     "name": "stdout",
     "output_type": "stream",
     "text": [
      "              SepalLengthCm SepalWidthCm PetalLengthCm PetalWidthCm\n",
      "SepalLengthCm     1.0000000   -0.1093692     0.8717542    0.8179536\n",
      "SepalWidthCm     -0.1093692    1.0000000    -0.4205161   -0.3565441\n",
      "PetalLengthCm     0.8717542   -0.4205161     1.0000000    0.9627571\n",
      "PetalWidthCm      0.8179536   -0.3565441     0.9627571    1.0000000\n"
     ]
    }
   ],
   "source": [
    "cor_matrix <- cor(iris_data[,1:4])\n",
    "print(cor_matrix)"
   ]
  },
  {
   "cell_type": "markdown",
   "id": "f18bb266",
   "metadata": {
    "papermill": {
     "duration": 0.010715,
     "end_time": "2025-08-26T18:57:08.339207",
     "exception": false,
     "start_time": "2025-08-26T18:57:08.328492",
     "status": "completed"
    },
    "tags": []
   },
   "source": [
    "# Prediction Model"
   ]
  },
  {
   "cell_type": "markdown",
   "id": "f08d3a52",
   "metadata": {
    "papermill": {
     "duration": 0.012275,
     "end_time": "2025-08-26T18:57:08.362452",
     "exception": false,
     "start_time": "2025-08-26T18:57:08.350177",
     "status": "completed"
    },
    "tags": []
   },
   "source": [
    "## Convert Species to factor"
   ]
  },
  {
   "cell_type": "code",
   "execution_count": 14,
   "id": "76b4ede6",
   "metadata": {
    "execution": {
     "iopub.execute_input": "2025-08-26T18:57:08.389150Z",
     "iopub.status.busy": "2025-08-26T18:57:08.386977Z",
     "iopub.status.idle": "2025-08-26T18:57:08.405412Z",
     "shell.execute_reply": "2025-08-26T18:57:08.403139Z"
    },
    "papermill": {
     "duration": 0.035357,
     "end_time": "2025-08-26T18:57:08.408913",
     "exception": false,
     "start_time": "2025-08-26T18:57:08.373556",
     "status": "completed"
    },
    "tags": []
   },
   "outputs": [],
   "source": [
    "iris_data$Species <- as.factor(iris_data$Species)"
   ]
  },
  {
   "cell_type": "markdown",
   "id": "d76fb40b",
   "metadata": {
    "papermill": {
     "duration": 0.010928,
     "end_time": "2025-08-26T18:57:08.430425",
     "exception": false,
     "start_time": "2025-08-26T18:57:08.419497",
     "status": "completed"
    },
    "tags": []
   },
   "source": [
    "## Train-test split"
   ]
  },
  {
   "cell_type": "code",
   "execution_count": 15,
   "id": "3bdf56d7",
   "metadata": {
    "execution": {
     "iopub.execute_input": "2025-08-26T18:57:08.458876Z",
     "iopub.status.busy": "2025-08-26T18:57:08.456577Z",
     "iopub.status.idle": "2025-08-26T18:57:08.493914Z",
     "shell.execute_reply": "2025-08-26T18:57:08.491603Z"
    },
    "papermill": {
     "duration": 0.056606,
     "end_time": "2025-08-26T18:57:08.498133",
     "exception": false,
     "start_time": "2025-08-26T18:57:08.441527",
     "status": "completed"
    },
    "tags": []
   },
   "outputs": [],
   "source": [
    "set.seed(123)\n",
    "trainIndex <- createDataPartition(iris_data$Species, p = 0.8, list = FALSE)\n",
    "trainData <- iris_data[trainIndex,]\n",
    "testData <- iris_data[-trainIndex,]"
   ]
  },
  {
   "cell_type": "markdown",
   "id": "453ee8a4",
   "metadata": {
    "papermill": {
     "duration": 0.011635,
     "end_time": "2025-08-26T18:57:08.522321",
     "exception": false,
     "start_time": "2025-08-26T18:57:08.510686",
     "status": "completed"
    },
    "tags": []
   },
   "source": [
    "# Train model (Random Forest)"
   ]
  },
  {
   "cell_type": "code",
   "execution_count": 16,
   "id": "bbeae7b9",
   "metadata": {
    "execution": {
     "iopub.execute_input": "2025-08-26T18:57:08.549163Z",
     "iopub.status.busy": "2025-08-26T18:57:08.546812Z",
     "iopub.status.idle": "2025-08-26T18:57:11.228306Z",
     "shell.execute_reply": "2025-08-26T18:57:11.226117Z"
    },
    "papermill": {
     "duration": 2.698443,
     "end_time": "2025-08-26T18:57:11.231891",
     "exception": false,
     "start_time": "2025-08-26T18:57:08.533448",
     "status": "completed"
    },
    "tags": []
   },
   "outputs": [],
   "source": [
    "model <- train(Species ~ ., data = trainData, method = \"rf\")"
   ]
  },
  {
   "cell_type": "markdown",
   "id": "ac0548bf",
   "metadata": {
    "papermill": {
     "duration": 0.010779,
     "end_time": "2025-08-26T18:57:11.253187",
     "exception": false,
     "start_time": "2025-08-26T18:57:11.242408",
     "status": "completed"
    },
    "tags": []
   },
   "source": [
    "# Model summary"
   ]
  },
  {
   "cell_type": "code",
   "execution_count": 17,
   "id": "b6744e9b",
   "metadata": {
    "execution": {
     "iopub.execute_input": "2025-08-26T18:57:11.278456Z",
     "iopub.status.busy": "2025-08-26T18:57:11.276818Z",
     "iopub.status.idle": "2025-08-26T18:57:11.301565Z",
     "shell.execute_reply": "2025-08-26T18:57:11.298903Z"
    },
    "papermill": {
     "duration": 0.040956,
     "end_time": "2025-08-26T18:57:11.304905",
     "exception": false,
     "start_time": "2025-08-26T18:57:11.263949",
     "status": "completed"
    },
    "tags": []
   },
   "outputs": [
    {
     "name": "stdout",
     "output_type": "stream",
     "text": [
      "Random Forest \n",
      "\n",
      "120 samples\n",
      "  4 predictor\n",
      "  3 classes: 'Iris-setosa', 'Iris-versicolor', 'Iris-virginica' \n",
      "\n",
      "No pre-processing\n",
      "Resampling: Bootstrapped (25 reps) \n",
      "Summary of sample sizes: 120, 120, 120, 120, 120, 120, ... \n",
      "Resampling results across tuning parameters:\n",
      "\n",
      "  mtry  Accuracy   Kappa    \n",
      "  2     0.9474229  0.9201435\n",
      "  3     0.9455403  0.9172896\n",
      "  4     0.9462277  0.9182848\n",
      "\n",
      "Accuracy was used to select the optimal model using the largest value.\n",
      "The final value used for the model was mtry = 2.\n"
     ]
    }
   ],
   "source": [
    "print(model)"
   ]
  },
  {
   "cell_type": "markdown",
   "id": "b3ccb1ca",
   "metadata": {
    "papermill": {
     "duration": 0.010648,
     "end_time": "2025-08-26T18:57:11.326357",
     "exception": false,
     "start_time": "2025-08-26T18:57:11.315709",
     "status": "completed"
    },
    "tags": []
   },
   "source": [
    "# Predictions"
   ]
  },
  {
   "cell_type": "code",
   "execution_count": 18,
   "id": "96d60aa0",
   "metadata": {
    "execution": {
     "iopub.execute_input": "2025-08-26T18:57:11.351400Z",
     "iopub.status.busy": "2025-08-26T18:57:11.349784Z",
     "iopub.status.idle": "2025-08-26T18:57:11.368375Z",
     "shell.execute_reply": "2025-08-26T18:57:11.366581Z"
    },
    "papermill": {
     "duration": 0.034893,
     "end_time": "2025-08-26T18:57:11.371830",
     "exception": false,
     "start_time": "2025-08-26T18:57:11.336937",
     "status": "completed"
    },
    "tags": []
   },
   "outputs": [],
   "source": [
    "predictions <- predict(model, newdata = testData)"
   ]
  },
  {
   "cell_type": "markdown",
   "id": "2385c9cb",
   "metadata": {
    "papermill": {
     "duration": 0.010611,
     "end_time": "2025-08-26T18:57:11.393125",
     "exception": false,
     "start_time": "2025-08-26T18:57:11.382514",
     "status": "completed"
    },
    "tags": []
   },
   "source": [
    "## Ensure both are factors with same levels"
   ]
  },
  {
   "cell_type": "code",
   "execution_count": 19,
   "id": "57c4120e",
   "metadata": {
    "execution": {
     "iopub.execute_input": "2025-08-26T18:57:11.418262Z",
     "iopub.status.busy": "2025-08-26T18:57:11.416650Z",
     "iopub.status.idle": "2025-08-26T18:57:11.432057Z",
     "shell.execute_reply": "2025-08-26T18:57:11.430147Z"
    },
    "papermill": {
     "duration": 0.031749,
     "end_time": "2025-08-26T18:57:11.435487",
     "exception": false,
     "start_time": "2025-08-26T18:57:11.403738",
     "status": "completed"
    },
    "tags": []
   },
   "outputs": [],
   "source": [
    "predictions <- factor(predictions, levels = levels(testData$Species))"
   ]
  },
  {
   "cell_type": "markdown",
   "id": "e8a19101",
   "metadata": {
    "papermill": {
     "duration": 0.011066,
     "end_time": "2025-08-26T18:57:11.458209",
     "exception": false,
     "start_time": "2025-08-26T18:57:11.447143",
     "status": "completed"
    },
    "tags": []
   },
   "source": [
    "# Confusion matrix"
   ]
  },
  {
   "cell_type": "code",
   "execution_count": 20,
   "id": "d93d9e57",
   "metadata": {
    "execution": {
     "iopub.execute_input": "2025-08-26T18:57:11.484507Z",
     "iopub.status.busy": "2025-08-26T18:57:11.482849Z",
     "iopub.status.idle": "2025-08-26T18:57:11.522480Z",
     "shell.execute_reply": "2025-08-26T18:57:11.519444Z"
    },
    "papermill": {
     "duration": 0.056365,
     "end_time": "2025-08-26T18:57:11.525933",
     "exception": false,
     "start_time": "2025-08-26T18:57:11.469568",
     "status": "completed"
    },
    "tags": []
   },
   "outputs": [
    {
     "name": "stdout",
     "output_type": "stream",
     "text": [
      "Confusion Matrix and Statistics\n",
      "\n",
      "                 Reference\n",
      "Prediction        Iris-setosa Iris-versicolor Iris-virginica\n",
      "  Iris-setosa              10               0              0\n",
      "  Iris-versicolor           0              10              2\n",
      "  Iris-virginica            0               0              8\n",
      "\n",
      "Overall Statistics\n",
      "                                          \n",
      "               Accuracy : 0.9333          \n",
      "                 95% CI : (0.7793, 0.9918)\n",
      "    No Information Rate : 0.3333          \n",
      "    P-Value [Acc > NIR] : 8.747e-12       \n",
      "                                          \n",
      "                  Kappa : 0.9             \n",
      "                                          \n",
      " Mcnemar's Test P-Value : NA              \n",
      "\n",
      "Statistics by Class:\n",
      "\n",
      "                     Class: Iris-setosa Class: Iris-versicolor\n",
      "Sensitivity                      1.0000                 1.0000\n",
      "Specificity                      1.0000                 0.9000\n",
      "Pos Pred Value                   1.0000                 0.8333\n",
      "Neg Pred Value                   1.0000                 1.0000\n",
      "Prevalence                       0.3333                 0.3333\n",
      "Detection Rate                   0.3333                 0.3333\n",
      "Detection Prevalence             0.3333                 0.4000\n",
      "Balanced Accuracy                1.0000                 0.9500\n",
      "                     Class: Iris-virginica\n",
      "Sensitivity                         0.8000\n",
      "Specificity                         1.0000\n",
      "Pos Pred Value                      1.0000\n",
      "Neg Pred Value                      0.9091\n",
      "Prevalence                          0.3333\n",
      "Detection Rate                      0.2667\n",
      "Detection Prevalence                0.2667\n",
      "Balanced Accuracy                   0.9000\n"
     ]
    }
   ],
   "source": [
    "conf_matrix <- confusionMatrix(predictions, testData$Species)\n",
    "print(conf_matrix)"
   ]
  },
  {
   "cell_type": "markdown",
   "id": "5a2fc4b9",
   "metadata": {
    "papermill": {
     "duration": 0.010673,
     "end_time": "2025-08-26T18:57:11.547689",
     "exception": false,
     "start_time": "2025-08-26T18:57:11.537016",
     "status": "completed"
    },
    "tags": []
   },
   "source": [
    "# Accuracy Result"
   ]
  },
  {
   "cell_type": "code",
   "execution_count": 21,
   "id": "9240879f",
   "metadata": {
    "_cell_guid": "b1076dfc-b9ad-4769-8c92-a6c4dae69d19",
    "_uuid": "8f2839f25d086af736a60e9eeb907d3b93b6e0e5",
    "execution": {
     "iopub.execute_input": "2025-08-26T18:57:11.574517Z",
     "iopub.status.busy": "2025-08-26T18:57:11.572709Z",
     "iopub.status.idle": "2025-08-26T18:57:11.590065Z",
     "shell.execute_reply": "2025-08-26T18:57:11.587949Z"
    },
    "papermill": {
     "duration": 0.03404,
     "end_time": "2025-08-26T18:57:11.592906",
     "exception": false,
     "start_time": "2025-08-26T18:57:11.558866",
     "status": "completed"
    },
    "tags": []
   },
   "outputs": [
    {
     "name": "stdout",
     "output_type": "stream",
     "text": [
      "Model Accuracy: 0.9333333"
     ]
    }
   ],
   "source": [
    "cat(\"Model Accuracy:\", conf_matrix$overall['Accuracy'])"
   ]
  }
 ],
 "metadata": {
  "kaggle": {
   "accelerator": "none",
   "dataSources": [
    {
     "datasetId": 19,
     "sourceId": 420,
     "sourceType": "datasetVersion"
    }
   ],
   "dockerImageVersionId": 30749,
   "isGpuEnabled": false,
   "isInternetEnabled": true,
   "language": "r",
   "sourceType": "notebook"
  },
  "kernelspec": {
   "display_name": "R",
   "language": "R",
   "name": "ir"
  },
  "language_info": {
   "codemirror_mode": "r",
   "file_extension": ".r",
   "mimetype": "text/x-r-source",
   "name": "R",
   "pygments_lexer": "r",
   "version": "4.4.0"
  },
  "papermill": {
   "default_parameters": {},
   "duration": 156.635737,
   "end_time": "2025-08-26T18:57:11.767198",
   "environment_variables": {},
   "exception": null,
   "input_path": "__notebook__.ipynb",
   "output_path": "__notebook__.ipynb",
   "parameters": {},
   "start_time": "2025-08-26T18:54:35.131461",
   "version": "2.6.0"
  }
 },
 "nbformat": 4,
 "nbformat_minor": 5
}
